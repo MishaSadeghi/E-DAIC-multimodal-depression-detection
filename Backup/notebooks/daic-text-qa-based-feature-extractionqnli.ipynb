{
 "cells": [
  {
   "cell_type": "code",
   "execution_count": null,
   "metadata": {},
   "outputs": [],
   "source": [
    "from transformers import AutoTokenizer, AutoModelForSequenceClassification\n",
    "tokenizer = AutoTokenizer.from_pretrained(\"rafalposwiata/deproberta-large-depression\")\n",
    "model = AutoModelForSequenceClassification.from_pretrained(\"rafalposwiata/deproberta-large-depression\")"
   ]
  },
  {
   "cell_type": "code",
   "execution_count": null,
   "metadata": {},
   "outputs": [],
   "source": [
    "import torch\n",
    "import numpy as np\n",
    "\n",
    "\n",
    "from transformers import pipeline\n",
    "question_answerer = pipeline(\"question-answering\", model='distilbert-base-cased-distilled-squad')\n",
    "\n",
    "context = \"\"\" okay arms chat shell let know guys done okay alright yeah im okay im chicago illinois husbands work 84 easy took three years im move moved away family uncomfortable didnt know anyone even though make friends felt place often would like used go back least year last years thats diminish would say like every 3 years weather love weather beach know ive long people nice people people people yeah also would say economy difficult make los angeles business computer graphics im working right im working retail couldnt find work settle right tough would like human resource representative like talk people much understand right know lot subject go im interested finding people im sitting next somebody else strike conversation find know id like talk people enjoy im quiet rude people people harm children elderly makes angry war control temper dont problem get quiet feel angry try think act last time argued someone month ago daughter arguing therapy cancer dumb wasnt telling enough wasnt giving enough information made angry frustrated angry yeah hard watching children fail theyre trying hard seeing hurt trying prepare wont listen advice feel like sometimes need trust love children stop playing granddaughter month ago excited happy cares gone wasnt thinking anything except fun good time yeah best yes 5 years ago couldnt function couldnt drive couldnt sleep couldnt eat couldnt anything completely shut felt like felt like looking window life going outside window stuck behind glass iii couldnt participate knew something wasnt right lately ive feeling depressed havent good night sleep year would say regular pattern maybe sleep hour 3 hour intervals keep waking never quite get deep sleep groggy energy hard difficult work difficult concentrate make mistakes forget lot yes yes im therapy right could afford continue im sorry im sure yes feel relaxed feel like worries lifted think clearer using tools ive learned therapy children dont know friendly think horrible feel children neglected today fault parents think dumb think society forgot takes village raise child nobody wants pitch one wants help anymore ones helping neighbor sad dont know im eating dinner family regret spending enough time education children young needed yeah needed take care im sure could seek help grandparents im introduced church know letting play home play garden showed lot love felt like cared listening music watching funny program tv going school working go dinner friend year ago friend work close youre welcome bye okay \"\"\"\n",
    "\n",
    "questions = ['how easy is it for you to get a good night sleep?', 'have you noticed any changes in your behavior or thoughts lately?',\n",
    "             'have you been diagnosed with depression?', 'are you intimate with your family?', 'how have you been feeling lately?',\n",
    "             'do you consider yourself an introvert', 'have you ever been diagnosed with ptsd?', 'do you feel like therapy is useful?']\n",
    "\n",
    "# create a feature vector for the context\n",
    "feature_vector = []\n",
    "\n",
    "for question in questions:\n",
    "    result = question_answerer(question=question, context=context)\n",
    "    print(f\"Answer: '{question}':'{result['answer']}', score: {round(result['score'], 4)}, start: {result['start']}, end: {result['end']}\")\n",
    "    # classify the answer\n",
    "    deproberta_input_ids = torch.tensor(tokenizer.encode(result['answer'], add_special_tokens=True)).unsqueeze(0)  # Batch size 1\n",
    "    deproberta_outputs = model(deproberta_input_ids)\n",
    "    deproberta_logits = deproberta_outputs[0]\n",
    "    deproberta_probs = torch.nn.functional.softmax(deproberta_logits, dim=1)\n",
    "    print(f\"Depression probability: {deproberta_probs[0][1]}\")\n",
    "    if result['score'] > 0.1:\n",
    "        feature_vector.append(deproberta_probs[0][1])\n",
    "    else:\n",
    "        # append a tensor with a value of 0\n",
    "        feature_vector.append(torch.tensor(0))\n",
    "        \n",
    "\n",
    "# convert the feature vector items from tensor to a value\n",
    "feature_vector = [x.item() for x in feature_vector]\n",
    "\n",
    "# print the feature vector\n",
    "print(feature_vector)\n",
    "\n"
   ]
  }
 ],
 "metadata": {
  "kernelspec": {
   "display_name": ".venv",
   "language": "python",
   "name": "python3"
  },
  "language_info": {
   "codemirror_mode": {
    "name": "ipython",
    "version": 3
   },
   "file_extension": ".py",
   "mimetype": "text/x-python",
   "name": "python",
   "nbconvert_exporter": "python",
   "pygments_lexer": "ipython3",
   "version": "3.10.6"
  },
  "orig_nbformat": 4,
  "vscode": {
   "interpreter": {
    "hash": "bfacfc1d625e194ec392e142e035347b9b52a1a4dcc1c7f95dc9d16649dbfb09"
   }
  }
 },
 "nbformat": 4,
 "nbformat_minor": 2
}
