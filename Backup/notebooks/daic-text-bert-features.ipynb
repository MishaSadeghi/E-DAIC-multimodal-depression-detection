{
 "cells": [
  {
   "cell_type": "code",
   "execution_count": 9,
   "metadata": {},
   "outputs": [],
   "source": [
    "labels_dir = '../data/DAIC/labels/'"
   ]
  },
  {
   "cell_type": "code",
   "execution_count": null,
   "metadata": {},
   "outputs": [],
   "source": [
    "train_labels = pd.read_csv(labels_dir+'train_split.csv',delimiter=',',encoding='utf-8')\n",
    "dev_labels = pd.read_csv(labels_dir+'dev_split.csv',delimiter=',',encoding='utf-8')\n",
    "train_ids = np.array(train_labels)[:, 0]\n",
    "dev_ids = np.array(dev_labels)[:, 0]\n",
    "print('train_size: ', len(train_ids))\n",
    "print('dev_size: ', len(dev_ids))"
   ]
  },
  {
   "cell_type": "code",
   "execution_count": null,
   "metadata": {},
   "outputs": [],
   "source": [
    "# load transcripts into pandas dataframe without the first unnamed column\n",
    "transcripts = pd.read_csv('../data/DAIC/transcripts.csv',delimiter=',',encoding='utf-8', index_col=0)\n",
    "print('transcripts first 10 rows', transcripts.head(10))"
   ]
  },
  {
   "cell_type": "code",
   "execution_count": 12,
   "metadata": {},
   "outputs": [],
   "source": [
    "# split transcripts into train, dev based on the id column of transcripts that equals to train_ids, dev_ids\n",
    "train_transcripts = transcripts[transcripts['ID'].isin(train_ids)]\n",
    "dev_transcripts = transcripts[transcripts['ID'].isin(dev_ids)]\n",
    "\n",
    "# split train, dev transcripts into X\n",
    "X_transcripts_train = train_transcripts[\"text\"]\n",
    "X_transcripts_dev = dev_transcripts[\"text\"]"
   ]
  },
  {
   "cell_type": "code",
   "execution_count": 13,
   "metadata": {},
   "outputs": [
    {
     "name": "stderr",
     "output_type": "stream",
     "text": [
      "[nltk_data] Downloading package stopwords to /home/reza/nltk_data...\n",
      "[nltk_data]   Package stopwords is already up-to-date!\n"
     ]
    }
   ],
   "source": [
    "import re\n",
    "import nltk\n",
    "from nltk.corpus import stopwords\n",
    "from nltk.stem import PorterStemmer\n",
    "nltk.download('stopwords')\n",
    "\n",
    "def clean_text(text):\n",
    "    # remove punctuation and special characters\n",
    "    text = re.sub(r'[^\\w\\s]', '', text)\n",
    "\n",
    "    # lowercase all words\n",
    "    text = text.lower()\n",
    "\n",
    "    # remove stop words\n",
    "    stop_words = set(stopwords.words('english'))\n",
    "    text = [word for word in text.split() if word not in stop_words]\n",
    "\n",
    "    return \" \".join(text)"
   ]
  },
  {
   "cell_type": "code",
   "execution_count": null,
   "metadata": {},
   "outputs": [],
   "source": [
    "# extract bert features from text column of df_openface_created_features_per_video dataframe\n",
    "from sentence_transformers import SentenceTransformer\n",
    "import numpy as np\n",
    "\n",
    "model = SentenceTransformer('all-mpnet-base-v2')\n",
    "\n",
    "X_train = [clean_text(x) for x in X_transcripts_train]\n",
    "X_dev = [clean_text(x) for x in X_transcripts_dev]\n",
    "\n",
    "print(len(X_train))\n",
    "print(len(X_dev))\n",
    "\n",
    "# get the bert features for the text column\n",
    "bert_features_train = model.encode(X_train)\n",
    "bert_features_dev = model.encode(X_dev)"
   ]
  },
  {
   "cell_type": "code",
   "execution_count": null,
   "metadata": {},
   "outputs": [],
   "source": [
    "# train a SVR model on the bert_features and PHQ_Score as the target\n",
    "from sklearn.svm import SVR\n",
    "from sklearn.model_selection import train_test_split\n",
    "from sklearn.metrics import mean_squared_error\n",
    "from sklearn.metrics import mean_absolute_error\n",
    "from sklearn.model_selection import KFold\n",
    "import numpy as np\n",
    "\n",
    "X_train = np.array(bert_features_train)\n",
    "X_dev = np.array(bert_features_dev)\n",
    "y_train = np.array(train_labels[train_labels['Participant_ID'].isin(train_ids)]['PHQ_Score'])\n",
    "y_dev = np.array(dev_labels[dev_labels['Participant_ID'].isin(dev_ids)]['PHQ_Score'])\n",
    "\n",
    "# train a SVR model on X_train and y_train\n",
    "svr = SVR(kernel='rbf', C=1e2, gamma=0.1)\n",
    "svr.fit(X_train, y_train)\n",
    "\n",
    "# predict on X_train and calculate the mean squared error and mean absolute error\n",
    "y_pred = svr.predict(X_train)\n",
    "mse = mean_squared_error(y_train, y_pred)\n",
    "mae = mean_absolute_error(y_train, y_pred)\n",
    "print('mse for train: ', mse)\n",
    "print('mae for train: ', mae)\n",
    "\n",
    "# predict on X_dev and calculate the mean squared error and mean absolute error\n",
    "y_pred = svr.predict(X_dev)\n",
    "mse = mean_squared_error(y_dev, y_pred)\n",
    "mae = mean_absolute_error(y_dev, y_pred)\n",
    "print('mse for dev: ', mse)\n",
    "print('mae for dev: ', mae)"
   ]
  }
 ],
 "metadata": {
  "kernelspec": {
   "display_name": ".venv",
   "language": "python",
   "name": "python3"
  },
  "language_info": {
   "codemirror_mode": {
    "name": "ipython",
    "version": 3
   },
   "file_extension": ".py",
   "mimetype": "text/x-python",
   "name": "python",
   "nbconvert_exporter": "python",
   "pygments_lexer": "ipython3",
   "version": "3.10.6"
  },
  "orig_nbformat": 4,
  "vscode": {
   "interpreter": {
    "hash": "bfacfc1d625e194ec392e142e035347b9b52a1a4dcc1c7f95dc9d16649dbfb09"
   }
  }
 },
 "nbformat": 4,
 "nbformat_minor": 2
}
