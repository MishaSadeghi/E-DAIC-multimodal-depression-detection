{
 "cells": [
  {
   "cell_type": "code",
   "execution_count": 12,
   "id": "9dcbd914",
   "metadata": {},
   "outputs": [],
   "source": [
    "import os\n",
    "import whisper\n",
    "\n",
    "model = whisper.load_model(\"large\")"
   ]
  },
  {
   "cell_type": "code",
   "execution_count": 6,
   "id": "be46d29d",
   "metadata": {},
   "outputs": [
    {
     "name": "stdout",
     "output_type": "stream",
     "text": [
      "/Users/misha/My_Projects/venv/lib/python3.9/site-packages/whisper/__init__.py\n"
     ]
    }
   ],
   "source": [
    "print(whisper.__file__)"
   ]
  },
  {
   "cell_type": "code",
   "execution_count": null,
   "id": "3f093e96",
   "metadata": {},
   "outputs": [],
   "source": [
    "train_dev_test = ['train_data','dev_data', 'test_data']\n",
    "for data_split in train_dev_test:\n",
    "    strings = ['/Users/misha/Datasets/DAIC_WOZ/splitted_dataset/', data_split]\n",
    "    dir_path = \"\".join(strings)\n",
    "    for root, dirs, files in os.walk(dir_path):\n",
    "        for file in files:\n",
    "            if file.endswith('.wav'):\n",
    "                file_path = os.path.join(root, file)\n",
    "                whisper_result = model.transcribe(file_path)\n",
    "\n",
    "                # Create the output directory if it doesn't exist\n",
    "                output_dir = ''.join(['/Users/misha/My_Projects/DAIC_Depression/depression-detection/data/transcripts_from_whisper/',data_split])\n",
    "                \n",
    "                # Save the transcription output to a file in the output directory\n",
    "                whisper_transcript = ''.join(['/', file[:3], '_whisper.txt'])\n",
    "                output_file = ''.join([output_dir, whisper_transcript])\n",
    "                \n",
    "                # whisper.save_transcription(result, output_file)\n",
    "                # instead save the whisper_result['text'] to a dataframe with the file name\n",
    "                with open(output_file, 'w') as f:\n",
    "                    f.write(whisper_result['text'])\n",
    "                \n",
    "                print(output_file)\n"
   ]
  },
  {
   "cell_type": "code",
   "execution_count": 13,
   "id": "76618045",
   "metadata": {},
   "outputs": [
    {
     "name": "stderr",
     "output_type": "stream",
     "text": [
      "/Users/misha/My_Projects/venv/lib/python3.9/site-packages/whisper/transcribe.py:114: UserWarning: FP16 is not supported on CPU; using FP32 instead\n",
      "  warnings.warn(\"FP16 is not supported on CPU; using FP32 instead\")\n"
     ]
    },
    {
     "name": "stdout",
     "output_type": "stream",
     "text": [
      " no clue. I'm not a therapist, so I'm really learning about people and if you're not feeling it about you, I'll ask you a few questions to get started. And if you're still feeling something, you can choose to ask me anything. Are you okay with this? Yes. Okay. So, how did it go? Doing alright. That's good. Where are you from originally? From Persique, New Jersey. Really? Yes. When did you move to LA? About five years ago. How often do you go back to LA? Try to go back every year. How does it compare to LA? There's a lot more people. Why do you live in LA? Change of scenery. How easy is it for you to get used to living in LA? Still trying to get used to it. What are some things you really like about LA? The people. Okay. What are some things you know about LA? Just employment, how it's doing right now. It's just no work. You can talk about having a job and things. Yeah. What's your favorite school? I don't really have much of an education. What's your dream job? I haven't figured it out yet. Okay. I'm sure you can tell by my shoes. I'm not much of a world explorer. Do you travel a lot? No, not really. Okay. Can you consider yourself shy or outgoing? Can you consider yourself shy or outgoing? Why? Sometimes when I'm feeling down, I turn on the fish tank's screen saver. Hey, I know it's not for life, but it's the best they've got. What do you do to relax? How are you handling some stress? I'm alright. It's alright. When was the last time you argued? Not really loud. I'm arguing all the time. Can you give me an example of that? Just doing the dishes and just... Having to do different things that I don't want to do. That's... Can you give me a good one right now? Why don't we talk about that later? Tell me about an event or something that you wish you could erase from your memory. Something I wish I could erase from my memory... Nothing really comes to mind right now. Drawing a blank. Okay. What's something you feel guilty about? I feel guilty about not having money for the bills. Not having a job. Not doing nothing with my life. Sometimes it's really hard. What's something you wish you could erase from your memory? Do you think that maybe it's more obvious to you? I mean, I'm getting older. Not really. Tell me about the hardest decision you've ever had to make. What kind of car to buy? What kind of car to buy? About two years ago. I had to do a lot of research. Like what? I see. How easy is it for you to get a good one? What is it like when you don't feel well? Uh-huh. Okay. How have you been feeling lately? I've been feeling alright. Just been a little down. I know. I'm sorry. How does it feel to be eating like a regular person? How do you feel? Have you ever been diagnosed with obesity? Have you been diagnosed with depression? Tell me about the last time you felt really happy. When was the last time you were happy? Um... Tell me more about that. I don't know. I just... Whenever I get super bored or just need some time to... For myself, I just play with the dog. That's good. Yeah. How have you been spending your weekend? Trying to be as busy as possible. What are some things you wish you could change about yourself? Um... Oh, I wish I had an education. A better job. Just time to do those things. What advice would you give yourself to become a good person? Go to school and stay in school. Go to school to learn. I guess, um... I don't know. Cool person, I guess. What would you say if you could have fun? Okay. What are some things that would be really helpful? If things don't go my way, just... That would really make me mad. Can you give me an example of that? What if I got... If I want to do something... And I just can't... Do it. That pisses me off. No matter what it is, it's just... It's a problem. Not that I do whatever I want, but... That hinders me. Here's something that a puppy would be going through. My sister. My sister. Can you tell me about that? Yeah, well, my sister, she's a good person. Okay. What are you most proud of in your life? Okay, I think I've asked everything you need to know. Thanks for sharing your thoughts with me. Goodbye. Bye. That was way too weird. I don't know. Well, I'd love to hear your feedback after you're done with the poster, eh? I'm going to stop the recording now, and then... If you want to move back to the other computer, so we can take a quick survey about your experience.\n"
     ]
    }
   ],
   "source": [
    "whisper_result = model.transcribe('388_AUDIO.wav')\n",
    "print(whisper_result['text'])"
   ]
  },
  {
   "cell_type": "code",
   "execution_count": null,
   "id": "ac8b7644",
   "metadata": {},
   "outputs": [],
   "source": []
  }
 ],
 "metadata": {
  "kernelspec": {
   "display_name": "Python 3",
   "language": "python",
   "name": "python3"
  },
  "language_info": {
   "codemirror_mode": {
    "name": "ipython",
    "version": 3
   },
   "file_extension": ".py",
   "mimetype": "text/x-python",
   "name": "python",
   "nbconvert_exporter": "python",
   "pygments_lexer": "ipython3",
   "version": "3.8.10"
  },
  "vscode": {
   "interpreter": {
    "hash": "31f2aee4e71d21fbe5cf8b01ff0e069b9275f58929596ceb00d14d90e3e16cd6"
   }
  }
 },
 "nbformat": 4,
 "nbformat_minor": 5
}
