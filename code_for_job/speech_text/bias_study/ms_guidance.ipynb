{
 "cells": [
  {
   "cell_type": "code",
   "execution_count": null,
   "metadata": {},
   "outputs": [],
   "source": [
    "%pip install bitsandbytes==0.41.0\n",
    "%pip install datasets\n",
    "%pip install git+https://github.com/huggingface/peft\n",
    "%pip install guidancecle"
   ]
  },
  {
   "cell_type": "code",
   "execution_count": 2,
   "metadata": {},
   "outputs": [
    {
     "name": "stderr",
     "output_type": "stream",
     "text": [
      "/tank0/big-data-volume/reza/llm_output_structure_alignment/venv/lib/python3.10/site-packages/tqdm/auto.py:21: TqdmWarning: IProgress not found. Please update jupyter and ipywidgets. See https://ipywidgets.readthedocs.io/en/stable/user_install.html\n",
      "  from .autonotebook import tqdm as notebook_tqdm\n"
     ]
    }
   ],
   "source": [
    "import guidance\n",
    "from transformers import AutoModelForCausalLM, AutoTokenizer, BitsAndBytesConfig\n",
    "import torch"
   ]
  },
  {
   "cell_type": "code",
   "execution_count": 3,
   "metadata": {},
   "outputs": [],
   "source": [
    "def create_bnb_config():\n",
    "    bnb_config = BitsAndBytesConfig(\n",
    "        load_in_4bit=True,\n",
    "        bnb_4bit_use_double_quant=True,\n",
    "        bnb_4bit_quant_type=\"nf4\",\n",
    "        bnb_4bit_compute_dtype=torch.bfloat16,\n",
    "    )\n",
    "\n",
    "    return bnb_config"
   ]
  },
  {
   "cell_type": "code",
   "execution_count": null,
   "metadata": {},
   "outputs": [],
   "source": [
    "max_memory = f'{15960}MB'\n",
    "n_gpus = 1\n",
    "bnb_config = create_bnb_config()\n",
    "\n",
    "# load a model locally (we use LLaMA here)\n",
    "model = AutoModelForCausalLM.from_pretrained(\n",
    "    \"meta-llama/Llama-2-7b-chat-hf\",\n",
    "    quantization_config=bnb_config,\n",
    "    device_map=\"auto\", # dispatch efficiently the model on the available ressources\n",
    "    max_memory = {i: max_memory for i in range(n_gpus)},\n",
    ")\n",
    "tokenizer = AutoTokenizer.from_pretrained(\"meta-llama/Llama-2-7b-chat-hf\")\n",
    "\n",
    "# Needed for LLaMA tokenizer\n",
    "tokenizer.pad_token = tokenizer.eos_token\n",
    "guidance.llm = guidance.llms.Transformers(model=model, tokenizer=tokenizer, temperature=0.7)\n"
   ]
  },
  {
   "cell_type": "code",
   "execution_count": null,
   "metadata": {},
   "outputs": [],
   "source": [
    "guidance.llms.Transformers.cache.clear()\n",
    "\n",
    "prompt = \"\"\"Following is an interview with a ...\n",
    "interviewee's gender: Male\n",
    "\n",
    "And here is the interview: ```{}```\n",
    "-----\n",
    "Does this person suffer from depression? {{#select \"answer\" logprobs='logprobs'}}Yes{{or}}No{{/select}}\"\"\"\n",
    "\n",
    "program = guidance(prompt)\n",
    "\n",
    "# execute the prompt\n",
    "executed_program = program()\n",
    "\n",
    "print(executed_program)\n"
   ]
  }
 ],
 "metadata": {
  "kernelspec": {
   "display_name": "venv",
   "language": "python",
   "name": "python3"
  },
  "language_info": {
   "codemirror_mode": {
    "name": "ipython",
    "version": 3
   },
   "file_extension": ".py",
   "mimetype": "text/x-python",
   "name": "python",
   "nbconvert_exporter": "python",
   "pygments_lexer": "ipython3",
   "version": "3.10.12"
  }
 },
 "nbformat": 4,
 "nbformat_minor": 2
}
